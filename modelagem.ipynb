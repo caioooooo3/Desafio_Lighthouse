{
  "nbformat": 4,
  "nbformat_minor": 0,
  "metadata": {
    "colab": {
      "provenance": []
    },
    "kernelspec": {
      "name": "python3",
      "display_name": "Python 3"
    },
    "language_info": {
      "name": "python"
    }
  },
  "cells": [
    {
      "cell_type": "code",
      "execution_count": 3,
      "metadata": {
        "colab": {
          "base_uri": "https://localhost:8080/"
        },
        "id": "9wfzWWRQBbqH",
        "outputId": "5cc5c708-d9e9-4e29-f6d8-44db9773852b"
      },
      "outputs": [
        {
          "output_type": "stream",
          "name": "stderr",
          "text": [
            "<ipython-input-3-3e0f49611a5e>:13: FutureWarning: A value is trying to be set on a copy of a DataFrame or Series through chained assignment using an inplace method.\n",
            "The behavior will change in pandas 3.0. This inplace method will never work because the intermediate object on which we are setting values always behaves as a copy.\n",
            "\n",
            "For example, when doing 'df[col].method(value, inplace=True)', try using 'df.method({col: value}, inplace=True)' or df[col] = df[col].method(value) instead, to perform the operation inplace on the original object.\n",
            "\n",
            "\n",
            "  data['reviews_por_mes'].fillna(0, inplace=True)\n"
          ]
        },
        {
          "output_type": "stream",
          "name": "stdout",
          "text": [
            "MAE: 66.76, RMSE: 233.93\n",
            "Modelo salvo como 'modelo_precificacao.pkl'!\n"
          ]
        }
      ],
      "source": [
        "import pandas as pd\n",
        "import numpy as np\n",
        "from sklearn.model_selection import train_test_split\n",
        "from sklearn.ensemble import RandomForestRegressor\n",
        "from sklearn.metrics import mean_absolute_error, mean_squared_error\n",
        "import pickle\n",
        "\n",
        "# Carregar os dados\n",
        "url = \"https://raw.githubusercontent.com/caioooooo3/Desafio_Lighthouse/main/teste_indicium_precificacao.csv\"\n",
        "data = pd.read_csv(url)\n",
        "\n",
        "# Pré-processamento\n",
        "data['reviews_por_mes'].fillna(0, inplace=True)\n",
        "data = data.drop(columns=['nome', 'host_name', 'ultima_review'])\n",
        "data = pd.get_dummies(data, columns=['room_type', 'bairro_group', 'bairro'], drop_first=True)\n",
        "\n",
        "# Separar variáveis preditoras e alvo\n",
        "X = data.drop(columns=['id', 'host_id', 'price'])\n",
        "y = data['price']\n",
        "\n",
        "# Divisão dos dados\n",
        "X_train, X_test, y_train, y_test = train_test_split(X, y, test_size=0.2, random_state=42)\n",
        "\n",
        "# Treinamento do modelo\n",
        "model = RandomForestRegressor(n_estimators=100, random_state=42)\n",
        "model.fit(X_train, y_train)\n",
        "\n",
        "# Avaliação do modelo\n",
        "y_pred = model.predict(X_test)\n",
        "mae = mean_absolute_error(y_test, y_pred)\n",
        "rmse = np.sqrt(mean_squared_error(y_test, y_pred))\n",
        "print(f\"MAE: {mae:.2f}, RMSE: {rmse:.2f}\")\n",
        "\n",
        "# Salvar modelo treinado\n",
        "with open('modelo_precificacao.pkl', 'wb') as file:\n",
        "    pickle.dump(model, file)\n",
        "\n",
        "print(\"Modelo salvo como 'modelo_precificacao.pkl'!\")\n"
      ]
    }
  ]
}